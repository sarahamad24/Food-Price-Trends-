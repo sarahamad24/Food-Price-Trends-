{
 "cells": [
  {
   "cell_type": "markdown",
   "metadata": {},
   "source": [
    "## Final Projet Part 1"
   ]
  },
  {
   "cell_type": "code",
   "execution_count": 1,
   "metadata": {},
   "outputs": [
    {
     "name": "stdout",
     "output_type": "stream",
     "text": [
      "Date range in the merged DataFrame: 2000-10-01 00:00:00 to 2024-02-01 00:00:00\n",
      "\n",
      "Merged DataFrame with Time Series Index and Verified Data Columns:\n"
     ]
    },
    {
     "data": {
      "text/html": [
       "<div>\n",
       "<style scoped>\n",
       "    .dataframe tbody tr th:only-of-type {\n",
       "        vertical-align: middle;\n",
       "    }\n",
       "\n",
       "    .dataframe tbody tr th {\n",
       "        vertical-align: top;\n",
       "    }\n",
       "\n",
       "    .dataframe thead th {\n",
       "        text-align: right;\n",
       "    }\n",
       "</style>\n",
       "<table border=\"1\" class=\"dataframe\">\n",
       "  <thead>\n",
       "    <tr style=\"text-align: right;\">\n",
       "      <th></th>\n",
       "      <th>CPI_Food_At_Home</th>\n",
       "      <th>Unemployment_Rate</th>\n",
       "      <th>Retail_Gas_Price</th>\n",
       "      <th>Food_Inflation</th>\n",
       "      <th>Producer_Inflation</th>\n",
       "    </tr>\n",
       "  </thead>\n",
       "  <tbody>\n",
       "    <tr>\n",
       "      <th>2000-10-01</th>\n",
       "      <td>169.0</td>\n",
       "      <td>3.9</td>\n",
       "      <td>1.563</td>\n",
       "      <td>102.0</td>\n",
       "      <td>127.6</td>\n",
       "    </tr>\n",
       "    <tr>\n",
       "      <th>2000-11-01</th>\n",
       "      <td>169.2</td>\n",
       "      <td>3.9</td>\n",
       "      <td>1.565</td>\n",
       "      <td>101.8</td>\n",
       "      <td>127.7</td>\n",
       "    </tr>\n",
       "    <tr>\n",
       "      <th>2000-12-01</th>\n",
       "      <td>170.2</td>\n",
       "      <td>3.9</td>\n",
       "      <td>1.526</td>\n",
       "      <td>102.4</td>\n",
       "      <td>130.3</td>\n",
       "    </tr>\n",
       "    <tr>\n",
       "      <th>2001-01-01</th>\n",
       "      <td>170.4</td>\n",
       "      <td>4.2</td>\n",
       "      <td>1.446</td>\n",
       "      <td>102.9</td>\n",
       "      <td>138.7</td>\n",
       "    </tr>\n",
       "    <tr>\n",
       "      <th>2001-02-01</th>\n",
       "      <td>171.6</td>\n",
       "      <td>4.2</td>\n",
       "      <td>1.483</td>\n",
       "      <td>103.2</td>\n",
       "      <td>139.5</td>\n",
       "    </tr>\n",
       "  </tbody>\n",
       "</table>\n",
       "</div>"
      ],
      "text/plain": [
       "            CPI_Food_At_Home  Unemployment_Rate  Retail_Gas_Price  \\\n",
       "2000-10-01             169.0                3.9             1.563   \n",
       "2000-11-01             169.2                3.9             1.565   \n",
       "2000-12-01             170.2                3.9             1.526   \n",
       "2001-01-01             170.4                4.2             1.446   \n",
       "2001-02-01             171.6                4.2             1.483   \n",
       "\n",
       "            Food_Inflation  Producer_Inflation  \n",
       "2000-10-01           102.0               127.6  \n",
       "2000-11-01           101.8               127.7  \n",
       "2000-12-01           102.4               130.3  \n",
       "2001-01-01           102.9               138.7  \n",
       "2001-02-01           103.2               139.5  "
      ]
     },
     "execution_count": 1,
     "metadata": {},
     "output_type": "execute_result"
    }
   ],
   "source": [
    "import pandas as pd\n",
    "import os.path as osp\n",
    "import warnings\n",
    "warnings.filterwarnings(\"ignore\", message=\"Could not infer format\")\n",
    "\n",
    "\n",
    "# Define paths for the data files\n",
    "path_cpi_food = osp.join(\"US CPI Food At Home.xlsx\")\n",
    "path_unemployment = osp.join(\"US Unemployment rate.xlsx\")\n",
    "path_retail_gas = osp.join(\"US Gaz price.xlsx\")\n",
    "path_food_inflation = osp.join(\"US_Food_Inflation_Data.xlsx\")\n",
    "path_ppi = osp.join('./PPI.xls')\n",
    "\n",
    "# Function to load, prepare, and ensure date ranges are correctly handled\n",
    "def load_and_prepare_dataset(filepath, skiprows, new_data_col_name):\n",
    "    # Load the dataset, assuming the first column is dates and the second is the data of interest\n",
    "    df = pd.read_excel(filepath, skiprows=skiprows, usecols=[0, 1])\n",
    "    df.iloc[:, 0] = pd.to_datetime(df.iloc[:, 0])  # Convert the date column to datetime\n",
    "    df.set_index(df.columns[0], inplace=True)  # Set the date column as the index\n",
    "    df.index = df.index.to_period('M').to_timestamp()  # Normalize to the first of the month\n",
    "    df.columns = [new_data_col_name]  # Rename the data column for clarity\n",
    "    return df\n",
    "\n",
    "# Load and prepare each dataset\n",
    "CPIFood = load_and_prepare_dataset(path_cpi_food, 10, 'CPI_Food_At_Home')\n",
    "Unemployment = load_and_prepare_dataset(path_unemployment, 10, 'Unemployment_Rate')\n",
    "RetailGas = load_and_prepare_dataset(path_retail_gas, 6, 'Retail_Gas_Price')\n",
    "FoodInflation = load_and_prepare_dataset(path_food_inflation, 0, 'Food_Inflation')\n",
    "ProducerInflation = load_and_prepare_dataset(path_ppi, 192, 'Producer_Inflation')\n",
    "\n",
    "\n",
    "# Normalize the index to ensure all dates are aligned and in the same format\n",
    "for df in [CPIFood, Unemployment, RetailGas, FoodInflation, ProducerInflation]:\n",
    "    df.index = df.index.normalize()\n",
    "\n",
    "# Merging the DataFrames on their datetime index with attention to alignment\n",
    "from functools import reduce\n",
    "data_frames = [CPIFood, Unemployment, RetailGas, FoodInflation,ProducerInflation]\n",
    "final_data = reduce(lambda left, right: pd.merge(left, right, left_index=True, right_index=True, how='inner'), data_frames)\n",
    "\n",
    "# Display the date range of the merged DataFrame to ensure coverage\n",
    "print(\"Date range in the merged DataFrame:\", final_data.index.min(), \"to\", final_data.index.max())\n",
    "\n",
    "# Display the first few rows to verify correct merging\n",
    "print(\"\\nMerged DataFrame with Time Series Index and Verified Data Columns:\")\n",
    "\n",
    "#final_data.tail()\n",
    "final_data.head()"
   ]
  },
  {
   "cell_type": "code",
   "execution_count": 2,
   "metadata": {},
   "outputs": [
    {
     "data": {
      "text/plain": [
       "(281, 5)"
      ]
     },
     "execution_count": 2,
     "metadata": {},
     "output_type": "execute_result"
    }
   ],
   "source": [
    "#Check the dimensions of the dataset using shape\n",
    "final_data.shape"
   ]
  },
  {
   "cell_type": "code",
   "execution_count": 3,
   "metadata": {},
   "outputs": [
    {
     "name": "stdout",
     "output_type": "stream",
     "text": [
      "<class 'pandas.core.frame.DataFrame'>\n",
      "DatetimeIndex: 281 entries, 2000-10-01 to 2024-02-01\n",
      "Freq: MS\n",
      "Data columns (total 5 columns):\n",
      "CPI_Food_At_Home      281 non-null float64\n",
      "Unemployment_Rate     281 non-null float64\n",
      "Retail_Gas_Price      281 non-null float64\n",
      "Food_Inflation        281 non-null float64\n",
      "Producer_Inflation    281 non-null float64\n",
      "dtypes: float64(5)\n",
      "memory usage: 13.2 KB\n"
     ]
    }
   ],
   "source": [
    "#Get information about the columns, data types, and missing values using \n",
    "final_data.info()"
   ]
  },
  {
   "cell_type": "code",
   "execution_count": 4,
   "metadata": {},
   "outputs": [
    {
     "data": {
      "text/plain": [
       "CPI_Food_At_Home      float64\n",
       "Unemployment_Rate     float64\n",
       "Retail_Gas_Price      float64\n",
       "Food_Inflation        float64\n",
       "Producer_Inflation    float64\n",
       "dtype: object"
      ]
     },
     "execution_count": 4,
     "metadata": {},
     "output_type": "execute_result"
    }
   ],
   "source": [
    "#Display the data types of each column in the DataFrame.\n",
    "final_data.dtypes"
   ]
  },
  {
   "cell_type": "code",
   "execution_count": 5,
   "metadata": {},
   "outputs": [
    {
     "data": {
      "text/html": [
       "<div>\n",
       "<style scoped>\n",
       "    .dataframe tbody tr th:only-of-type {\n",
       "        vertical-align: middle;\n",
       "    }\n",
       "\n",
       "    .dataframe tbody tr th {\n",
       "        vertical-align: top;\n",
       "    }\n",
       "\n",
       "    .dataframe thead th {\n",
       "        text-align: right;\n",
       "    }\n",
       "</style>\n",
       "<table border=\"1\" class=\"dataframe\">\n",
       "  <thead>\n",
       "    <tr style=\"text-align: right;\">\n",
       "      <th></th>\n",
       "      <th>CPI_Food_At_Home</th>\n",
       "      <th>Unemployment_Rate</th>\n",
       "      <th>Retail_Gas_Price</th>\n",
       "      <th>Food_Inflation</th>\n",
       "      <th>Producer_Inflation</th>\n",
       "    </tr>\n",
       "  </thead>\n",
       "  <tbody>\n",
       "    <tr>\n",
       "      <th>count</th>\n",
       "      <td>281.000000</td>\n",
       "      <td>281.000000</td>\n",
       "      <td>281.000000</td>\n",
       "      <td>281.000000</td>\n",
       "      <td>281.000000</td>\n",
       "    </tr>\n",
       "    <tr>\n",
       "      <th>mean</th>\n",
       "      <td>225.061391</td>\n",
       "      <td>5.806406</td>\n",
       "      <td>2.650765</td>\n",
       "      <td>134.685687</td>\n",
       "      <td>212.114217</td>\n",
       "    </tr>\n",
       "    <tr>\n",
       "      <th>std</th>\n",
       "      <td>34.184044</td>\n",
       "      <td>1.977127</td>\n",
       "      <td>0.762839</td>\n",
       "      <td>21.520186</td>\n",
       "      <td>57.896059</td>\n",
       "    </tr>\n",
       "    <tr>\n",
       "      <th>min</th>\n",
       "      <td>169.000000</td>\n",
       "      <td>3.400000</td>\n",
       "      <td>1.149000</td>\n",
       "      <td>101.800000</td>\n",
       "      <td>124.900000</td>\n",
       "    </tr>\n",
       "    <tr>\n",
       "      <th>25%</th>\n",
       "      <td>193.400000</td>\n",
       "      <td>4.400000</td>\n",
       "      <td>2.132000</td>\n",
       "      <td>115.500000</td>\n",
       "      <td>157.300000</td>\n",
       "    </tr>\n",
       "    <tr>\n",
       "      <th>50%</th>\n",
       "      <td>231.658000</td>\n",
       "      <td>5.300000</td>\n",
       "      <td>2.630000</td>\n",
       "      <td>135.298000</td>\n",
       "      <td>214.800000</td>\n",
       "    </tr>\n",
       "    <tr>\n",
       "      <th>75%</th>\n",
       "      <td>241.581000</td>\n",
       "      <td>6.700000</td>\n",
       "      <td>3.286000</td>\n",
       "      <td>145.172000</td>\n",
       "      <td>241.200000</td>\n",
       "    </tr>\n",
       "    <tr>\n",
       "      <th>max</th>\n",
       "      <td>305.788000</td>\n",
       "      <td>14.800000</td>\n",
       "      <td>4.842000</td>\n",
       "      <td>188.055000</td>\n",
       "      <td>382.080000</td>\n",
       "    </tr>\n",
       "  </tbody>\n",
       "</table>\n",
       "</div>"
      ],
      "text/plain": [
       "       CPI_Food_At_Home  Unemployment_Rate  Retail_Gas_Price  Food_Inflation  \\\n",
       "count        281.000000         281.000000        281.000000      281.000000   \n",
       "mean         225.061391           5.806406          2.650765      134.685687   \n",
       "std           34.184044           1.977127          0.762839       21.520186   \n",
       "min          169.000000           3.400000          1.149000      101.800000   \n",
       "25%          193.400000           4.400000          2.132000      115.500000   \n",
       "50%          231.658000           5.300000          2.630000      135.298000   \n",
       "75%          241.581000           6.700000          3.286000      145.172000   \n",
       "max          305.788000          14.800000          4.842000      188.055000   \n",
       "\n",
       "       Producer_Inflation  \n",
       "count          281.000000  \n",
       "mean           212.114217  \n",
       "std             57.896059  \n",
       "min            124.900000  \n",
       "25%            157.300000  \n",
       "50%            214.800000  \n",
       "75%            241.200000  \n",
       "max            382.080000  "
      ]
     },
     "execution_count": 5,
     "metadata": {},
     "output_type": "execute_result"
    }
   ],
   "source": [
    "# Generate descriptive statistics summarizing the central tendency, dispersion, and shape of numerical columns in the DataFrame.\n",
    "# This includes count, mean, standard deviation, minimum, quartiles, and maximum values for each numeric feature.\n",
    "# It provides a quick overview of the distribution and range of values within each numerical variable.\n",
    "final_data.describe()"
   ]
  },
  {
   "cell_type": "markdown",
   "metadata": {},
   "source": [
    "# Correlation Heat Map"
   ]
  },
  {
   "cell_type": "code",
   "execution_count": 6,
   "metadata": {},
   "outputs": [
    {
     "data": {
      "text/plain": [
       "<Figure size 640x480 with 2 Axes>"
      ]
     },
     "metadata": {},
     "output_type": "display_data"
    }
   ],
   "source": [
    "import seaborn as sns\n",
    "import matplotlib.pyplot as plt\n",
    "\n",
    "# This heatmap shows the correlation between variables\n",
    "sns.heatmap(final_data.corr(), annot=True, cmap='coolwarm')\n",
    "plt.show()\n"
   ]
  },
  {
   "cell_type": "code",
   "execution_count": 7,
   "metadata": {},
   "outputs": [],
   "source": [
    "from sklearn.linear_model import LinearRegression\n",
    "train_X = final_data[['Unemployment_Rate','Retail_Gas_Price','Food_Inflation','Producer_Inflation']].values\n",
    "train_y = final_data['CPI_Food_At_Home'].values\n",
    "\n",
    "reg = LinearRegression().fit(train_X, train_y)"
   ]
  },
  {
   "cell_type": "code",
   "execution_count": 8,
   "metadata": {},
   "outputs": [
    {
     "name": "stdout",
     "output_type": "stream",
     "text": [
      "B_0 = 12.015602865663027\n",
      "B_1 = 0.5234685195399933\n",
      "B_2 = 1.4567930503114788\n",
      "B_3 = 1.4651176014113674\n",
      "B_3 = 0.04155464670839487\n"
     ]
    }
   ],
   "source": [
    "print(\"B_0 =\",reg.intercept_)\n",
    "print(\"B_1 =\",reg.coef_[0])\n",
    "print(\"B_2 =\",reg.coef_[1])\n",
    "print(\"B_3 =\",reg.coef_[2])\n",
    "print(\"B_3 =\",reg.coef_[3])\n"
   ]
  },
  {
   "cell_type": "markdown",
   "metadata": {},
   "source": [
    "# Model"
   ]
  },
  {
   "cell_type": "code",
   "execution_count": 9,
   "metadata": {},
   "outputs": [
    {
     "name": "stdout",
     "output_type": "stream",
     "text": [
      "                            OLS Regression Results                            \n",
      "==============================================================================\n",
      "Dep. Variable:       CPI_Food_At_Home   R-squared:                       0.754\n",
      "Model:                            OLS   Adj. R-squared:                  0.752\n",
      "Method:                 Least Squares   F-statistic:                     283.7\n",
      "Date:                Fri, 12 Apr 2024   Prob (F-statistic):           3.94e-84\n",
      "Time:                        13:04:05   Log-Likelihood:                -1193.3\n",
      "No. Observations:                 281   AIC:                             2395.\n",
      "Df Residuals:                     277   BIC:                             2409.\n",
      "Df Model:                           3                                         \n",
      "Covariance Type:            nonrobust                                         \n",
      "=============================================================================================\n",
      "                                coef    std err          t      P>|t|      [0.025      0.975]\n",
      "---------------------------------------------------------------------------------------------\n",
      "Intercept                   114.8788      4.537     25.321      0.000     105.948     123.810\n",
      "Unemployment_Rate_squared    -0.0622      0.037     -1.701      0.090      -0.134       0.010\n",
      "Retail_Gas_Price_squared     -1.1019      0.394     -2.794      0.006      -1.878      -0.325\n",
      "Producer_Inflation            0.5700      0.028     20.164      0.000       0.514       0.626\n",
      "==============================================================================\n",
      "Omnibus:                       60.270   Durbin-Watson:                   0.057\n",
      "Prob(Omnibus):                  0.000   Jarque-Bera (JB):              393.532\n",
      "Skew:                          -0.654   Prob(JB):                     3.51e-86\n",
      "Kurtosis:                       8.648   Cond. No.                         996.\n",
      "==============================================================================\n",
      "\n",
      "Warnings:\n",
      "[1] Standard Errors assume that the covariance matrix of the errors is correctly specified.\n"
     ]
    }
   ],
   "source": [
    "import statsmodels.api as sm\n",
    "from statsmodels.formula.api import ols\n",
    "import numpy as np \n",
    "\n",
    "# Squared independent variables to eliminate non-linear relationships\n",
    "# Eliminated Food Inflation variable due to collinearity \n",
    "final_data['Unemployment_Rate_squared'] = np.square(final_data['Unemployment_Rate'])\n",
    "final_data['Retail_Gas_Price_squared'] = np.square(final_data['Retail_Gas_Price'])\n",
    "final_data['Food_Inflation_squared'] = np.square(final_data['Food_Inflation'])\n",
    "\n",
    "\n",
    "# Fit the OLS regression model\n",
    "model = ols('CPI_Food_At_Home ~ Unemployment_Rate_squared +Retail_Gas_Price_squared +Producer_Inflation', final_data).fit()\n",
    "\n",
    "\n",
    "from sklearn.linear_model import LinearRegression\n",
    "train_X = final_data[['Unemployment_Rate_squared','Retail_Gas_Price_squared', 'Producer_Inflation']].values\n",
    "train_y = final_data['CPI_Food_At_Home'].values\n",
    "\n",
    "reg = LinearRegression().fit(train_X, train_y)\n",
    "print(model.summary())\n"
   ]
  },
  {
   "cell_type": "markdown",
   "metadata": {},
   "source": [
    "# Residual Plot"
   ]
  },
  {
   "cell_type": "code",
   "execution_count": 10,
   "metadata": {},
   "outputs": [
    {
     "data": {
      "image/png": "[encoded data removed]",
      "text/plain": [
       "<Figure size 432x288 with 1 Axes>"
      ]
     },
     "metadata": {
      "needs_background": "light"
     },
     "output_type": "display_data"
    },
    {
     "name": "stdout",
     "output_type": "stream",
     "text": [
      "Mean of Residuals: 2.589308759495881e-14\n"
     ]
    }
   ],
   "source": [
    "# First, define X and Y Variables\n",
    "from sklearn.linear_model import LinearRegression\n",
    "reg = LinearRegression().fit(train_X, train_y)\n",
    "predicted_y = reg.predict(train_X)\n",
    "\n",
    "residuals = train_y - predicted_y\n",
    "\n",
    "import matplotlib.pyplot as plt\n",
    "\n",
    "plt.scatter(predicted_y,residuals, s=2, c='black')\n",
    "\n",
    "\n",
    "# Line to add dashed horizontal lines\n",
    "plt.hlines(0,min(predicted_y), max(predicted_y), color='red', linestyles= 'dashed')\n",
    "\n",
    "plt.xlabel(\"Model Prediction\")\n",
    "plt.ylabel(\"Residual\")\n",
    "plt.show()\n",
    "\n",
    "\n",
    "print('Mean of Residuals:', residuals.mean())"
   ]
  },
  {
   "cell_type": "markdown",
   "metadata": {},
   "source": [
    "## Train / Test"
   ]
  },
  {
   "cell_type": "code",
   "execution_count": 11,
   "metadata": {},
   "outputs": [],
   "source": [
    "from sklearn.linear_model import LinearRegression\n",
    "train_X = final_data[['Unemployment_Rate_squared','Retail_Gas_Price_squared', 'Producer_Inflation']].values\n",
    "train_y = final_data['CPI_Food_At_Home'].values"
   ]
  },
  {
   "cell_type": "code",
   "execution_count": 12,
   "metadata": {},
   "outputs": [],
   "source": [
    "# Splitting the data 70/30 split\n",
    "from sklearn.model_selection import train_test_split\n",
    "x_train, x_test, y_train, y_test = train_test_split(train_X,train_y,train_size=0.7,random_state=0)"
   ]
  },
  {
   "cell_type": "code",
   "execution_count": 13,
   "metadata": {},
   "outputs": [],
   "source": [
    "# Train model and assess it against training data\n",
    "from sklearn.linear_model import LinearRegression\n",
    "reg = LinearRegression().fit(x_train, y_train)"
   ]
  },
  {
   "cell_type": "code",
   "execution_count": 14,
   "metadata": {},
   "outputs": [
    {
     "name": "stdout",
     "output_type": "stream",
     "text": [
      "[228.59305845 183.21931848 224.92048072 239.40107845 198.71514054\n",
      " 243.03020554 225.71527667 228.20457057 297.96987133 202.8106593\n",
      " 232.39117967 240.58722837 250.57906359 235.88523712 183.44433594\n",
      " 229.23254613 257.48465206 286.61308131 183.27400331 228.9405017\n",
      " 199.55568967 232.35508137 217.13434029 214.39385935 225.62262885\n",
      " 191.71880968 197.11423203 231.91956848 204.49672458 185.8903793\n",
      " 191.48862483 201.80671382 235.67468605 236.51863224 249.54338508\n",
      " 187.49676219 238.27743705 231.86121306 189.82554039 236.75982133\n",
      " 234.90494439 211.58895599 234.10587507 193.47224371 262.75045343\n",
      " 211.95872654 244.31067073 290.97663299 231.41948657 197.01244775\n",
      " 225.51749444 183.1125977  190.43008389 232.32061466 229.57506463\n",
      " 231.42465923 229.52093162 228.79804117 184.17871339 230.33619826\n",
      " 228.7249487  228.94705778 218.49517753 297.69141888 188.09260749\n",
      " 208.17938945 227.8432239  237.69481373 239.05473117 237.95989723\n",
      " 219.3591774  203.58591197 231.85221178 229.94547784 201.88255488\n",
      " 227.64937619 189.735692   241.93572315 300.53421841 226.29934011\n",
      " 233.04394048 192.36003182 229.17197454 182.6640045  229.93344224]\n"
     ]
    }
   ],
   "source": [
    "# Predicting values\n",
    "x_tested = reg.predict(x_test)\n",
    "print(x_tested)"
   ]
  },
  {
   "cell_type": "code",
   "execution_count": 15,
   "metadata": {},
   "outputs": [],
   "source": [
    "from sklearn.metrics import mean_squared_error\n",
    "from sklearn.metrics import mean_absolute_error\n",
    "from numpy import sqrt"
   ]
  },
  {
   "cell_type": "code",
   "execution_count": 18,
   "metadata": {},
   "outputs": [
    {
     "name": "stdout",
     "output_type": "stream",
     "text": [
      "R^2: 0.7516978325607029\n",
      "Root Mean Squared Error: 17.498833398634495\n",
      "Mean Absolute Error: 11.647000069178464\n"
     ]
    }
   ],
   "source": [
    "# Stats from Train data\n",
    "print(\"R^2:\",reg.score(x_train,y_train))\n",
    "print(\"Root Mean Squared Error:\",sqrt(mean_squared_error(y_train,reg.predict(x_train))))\n",
    "print(\"Mean Absolute Error:\",mean_absolute_error(y_train,reg.predict(x_train)))"
   ]
  },
  {
   "cell_type": "code",
   "execution_count": 20,
   "metadata": {},
   "outputs": [
    {
     "name": "stdout",
     "output_type": "stream",
     "text": [
      "R^2: 0.7561344089833224\n",
      "Root Mean Squared Error: 15.650867213780465\n",
      "Mean Absolute Error: 10.286111861243153\n"
     ]
    }
   ],
   "source": [
    "# Stats from Test data\n",
    "print(\"R^2:\",reg.score(x_test,y_test))\n",
    "print(\"Root Mean Squared Error:\",sqrt(\n",
    "    mean_squared_error(y_test,reg.predict(x_test))))\n",
    "print(\"Mean Absolute Error:\",mean_absolute_error(y_test,reg.predict(x_test)))"
   ]
  },
  {
   "cell_type": "code",
   "execution_count": 30,
   "metadata": {},
   "outputs": [
    {
     "data": {
      "image/png": "[encoded data removed]",
      "text/plain": [
       "<Figure size 432x288 with 1 Axes>"
      ]
     },
     "metadata": {
      "needs_background": "light"
     },
     "output_type": "display_data"
    }
   ],
   "source": [
    "# PLotting The difference of what was expected (y_test) and the calculated results from training (x-tested)\n",
    "test_differences = y_test - x_tested\n",
    "plt.scatter(y_test,test_differences, s=10)\n",
    "plt.hlines(0,min(y_test), max(y_test), color='red', linestyles= 'dashed')\n",
    "\n",
    "plt.xlabel(\"Test Set expectations\")\n",
    "plt.ylabel(\"Difference between tested and test set\")\n",
    "plt.show()\n"
   ]
  },
  {
   "cell_type": "code",
   "execution_count": null,
   "metadata": {},
   "outputs": [],
   "source": []
  }
 ],
 "metadata": {
  "kernelspec": {
   "display_name": "Python 3",
   "language": "python",
   "name": "python3"
  },
  "language_info": {
   "codemirror_mode": {
    "name": "ipython",
    "version": 3
   },
   "file_extension": ".py",
   "mimetype": "text/x-python",
   "name": "python",
   "nbconvert_exporter": "python",
   "pygments_lexer": "ipython3",
   "version": "3.7.3"
  }
 },
 "nbformat": 4,
 "nbformat_minor": 5
}
